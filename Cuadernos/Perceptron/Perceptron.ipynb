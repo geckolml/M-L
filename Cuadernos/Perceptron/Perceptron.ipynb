{
 "cells": [
  {
   "cell_type": "markdown",
   "metadata": {},
   "source": [
    "## Redes Neuronales de una sola  capa \n",
    "\n"
   ]
  },
  {
   "cell_type": "markdown",
   "metadata": {},
   "source": [
    "Los perceptrones y [ADALINE (Adaptive Linear Neuron)](https://en.wikipedia.org/wiki/ADALINE), pertenecen a la categoria  redes neuronales de una sola capa. \n",
    "\n",
    "El perceptron no sólo es el primer algoritmo de aprendizaje descrito algorítmicamente , sino que también es muy intuitivo, fácil de implementar y un buen punto de entrada a los modernos algoritmos de aprendizaje de última generación las  redes neuronales artificiales (o `deep learning` si lo deseas)."
   ]
  },
  {
   "cell_type": "markdown",
   "metadata": {},
   "source": [
    "### El modelo McCulloch-Pitts\n",
    "\n",
    "La idea inicial del perceptron se remonta a la obra de Warren McCulloch y Walter Pitts , quienes  hicieron una analogía entre las neuronas biológicas y las puertas lógicas simples con salidas binarias. \n",
    "\n",
    "En términos más intuitivos, las neuronas pueden ser entendidas como las subunidades de una red neuronal en un cerebro biológico. Aquí, las señales de magnitudes  de  variables llegan a las dendritas. Esas señales de entrada se acumulan entonces en el cuerpo celular de la neurona, y si la señal acumulada excede un cierto umbral, se genera una señal de salida que será transmitida por el axón.\n",
    "\n",
    "<img src=\"P1.png\" width=\"600\" />\n"
   ]
  },
  {
   "cell_type": "markdown",
   "metadata": {},
   "source": [
    "Frank Rosenblatt publicó el primer concepto de la regla aprendizaje del Perceptron aprendizaje en un artículo publicado en el año 1957, titulado `The perceptron, a perceiving and recognizing automaton`.\n",
    "\n",
    "La idea principal era definir un algoritmo para aprender los valores de los pesos `w` que se multiplican con las características de entrada para tomar una decisión si una neurona se enciende o no. En el contexto de la clasificación de patrones, tal algoritmo podría ser útil para determinar si una muestra pertenece a una clase u otra."
   ]
  },
  {
   "cell_type": "markdown",
   "metadata": {},
   "source": [
    "El perceptron pertenece a la categoría de algoritmos de aprendizaje supervisado, a los los clasificadores lineales binarios de una sola capa son más específicos. En resumen, la tarea consiste en predecir a cuál de dos categorías posibles un cierto punto de datos pertenece basado en un conjunto de variables de entrada."
   ]
  },
  {
   "cell_type": "markdown",
   "metadata": {},
   "source": [
    "### Función de paso unitaria\n",
    "\n",
    "Antes de profundizar más en los algoritmos, para el aprendizaje de los pesos de la neurona artificial, echemos un breve vistazo a la notación básica.\n",
    "\n",
    "Para ello etiquetaremos la clase positiva y negativa en nuestra clasificación binaria como `1` y `-1`, respectivamente. \n",
    "\n",
    "A continuación, definimos una **función de activación** $g(\\mathbf{z})$ que toma una combinación lineal de los valores de entrada $\\mathbf{x}$ y de los pesos $\\mathbf{w}$ como entrada ($\\mathbf{z} = w_1x_1 + \\cdots + w_mx_m)$), y si $g(\\mathbf{z})$ es mayor que un umbral definido $\\theta $ se predice `1` y `-1` en caso contrario; en este caso, esta función de activación $g$ es una forma alternativa de una simple `función de paso de unitaria`. que a veces también se denomina `función de paso Heaviside`.\n",
    "\n",
    "Usualmente el paso unitario se define  como  $0$ si $ z < 0 $ y $1$ para $ z \\geq 0 $; no obstante, nos referiremos a la función  como $-1$ si $ z < \\theta $ y $1$ para $ z \\geq \\theta $ simplificar.\n",
    "\n",
    "\n",
    "$$ g(\\mathbf{z}) =\\begin{cases} 1 & \\text{if $\\mathbf{z} \\ge \\theta$}\\\\ -1 & \\text{en otros casos}. \\end{cases} $$\n",
    "\n",
    "donde\n",
    "\n",
    "$$\\mathbf{z} = w_1x_1 + \\cdots + w_mx_m = \\sum_{j =1}^{m}x_jw_j = \\mathbf{w}^T\\mathbf{x}$$\n",
    "\n",
    "$\\mathbf{w}$ es el vector de características  y $\\mathbf{x}$ es una muestra $m$ dimensional del conjunto de datos de entrenamiento.\n",
    "\n",
    "<img src=\"P2.png\" width=\"400\" />"
   ]
  },
  {
   "cell_type": "markdown",
   "metadata": {},
   "source": [
    "Para simplificar la notación, traemos $\\theta$ al lado izquierdo de la ecuación y definimos $w_0 = - \\theta \\quad \\text{y}\\quad  x_0 = 1 $.\n",
    "\n",
    "de manera que se tiene\n",
    "\n",
    "$$\\begin{equation} g({\\mathbf{z}}) =\\begin{cases} 1 & \\text{if $\\mathbf{z} \\ge 0$}\\\\ -1 & \\text{en otros casos}. \\end{cases} \\end{equation}$$\n",
    "\n",
    "y\n",
    "\n",
    "$$\\mathbf{z} = w_1x_1 + \\cdots + w_mx_m = \\sum_{j =1}^{m}x_jw_j = \\mathbf{w}^T\\mathbf{x}$$"
   ]
  },
  {
   "cell_type": "markdown",
   "metadata": {},
   "source": [
    "### La Regla de aprendizaje del  perceptron\n",
    "\n",
    "la idea detrás del perceptron  es imitar cómo funciona una sola neurona en el cerebro: o bien `se enciende` o no.\n",
    "\n",
    "Un perceptron recibe múltiples señales de entrada, y si la suma de las señales de entrada supera un determinado umbral, devuelve una señal o permanece `en silencio` en caso contrario. Lo que hizo de este algoritmo uno de machine learning fue la idea de Frank Rosenblatt sobre la regla de aprendizaje del perceptron: \n",
    "\n",
    "El algoritmo perceptron es sobre el aprendizaje de los pesos de las señales de entrada para trazar un límite de decisión lineal que nos permite discriminar entre  dos clases linealmente separables  `+1` y `-1`.\n",
    "\n",
    "<img src=\"P3.png\" width=\"450\" />\n"
   ]
  },
  {
   "cell_type": "markdown",
   "metadata": {},
   "source": [
    "###  Esquema del perceptron de  Rosenblatt\n",
    "\n",
    "\n",
    "La regla de Rosenblatt incial de aprendizaje del perceptron, es bastante simple y se puede resumir por los siguientes pasos:\n",
    "\n",
    "1 .Inicializa los pesos en $0$ o por pequeños números aleatorios.\n",
    "\n",
    "2 .Para cada muestra de entrenamiento $\\mathbf{x_{(i)}}$.\n",
    "\n",
    "    * Calculamos el valor de salida.\n",
    "    * Actualizamos los pesos.\n",
    "    \n",
    "\n",
    "El valor de salida es la etiqueta de clase predecida por la función de paso unitario que definimos anteriormente (salida $ = g (\\mathbf{z})$) y la actualización de pesos puede escribirse formalmente como $w_j: = w_j + \\Delta w_j$.\n",
    "\n",
    "El valor para actualizar los pesos en cada incremento se calcula mediante la regla de aprendizaje\n",
    "\n",
    "$\\Delta w_j = \\eta \\; (\\text{objetivo}_{(i)} - \\text{salida}_{(i)})\\; x_{ij}$\n",
    "\n",
    "donde $\\eta $ es la tasa de aprendizaje (una constante entre `0.0` y `1.0`), `objetivo` es la etiqueta de clase verdadera, y la `salida ` es la etiqueta de clase prevista.\n",
    "\n",
    "Es importante tener en cuenta que todos los pesos en el vector de pesos se están actualizando simultáneamente. Concretamente, para un conjunto de datos bidimensional, escribiríamos la actualización como:\n",
    "\n",
    "$\\Delta w_0 = \\eta (\\text{objetivo}_{(i)} - \\text{salida}_{(i)}) $\n",
    "\n",
    "$\\Delta w_1 = \\eta (\\text{objetivo}_{(i)} - \\text{salida}_{(i)}) \\; x_{(i)1}$\n",
    "\n",
    "$\\Delta w_2 = \\eta (\\text{objetivo}_{(i)} - \\text{salida}_{(i)}) \\; x_{(i)2}$\n",
    "\n",
    "Antes de implementar la regla de perceptron, hagamos un simple experimento de pensamiento para ilustrar esta regla de aprendizaje. En los dos escenarios en los que el perceptron predice la etiqueta de clase correctamente, los pesos permanecen sin cambios:\n",
    "\n",
    "\n",
    " * $\\Delta w_j = \\eta (-1_{(i)} - -1_{(i)}) \\; x _{(i)j} = 0 $\n",
    " * $\\Delta w_j = \\eta (1_{(i)} - 1_{(i)}) \\; x_{(i)j}  = 0 $\n",
    "\n",
    "Sin embargo, en caso de una predicción errónea, los pesos se están `empujando` hacia la dirección de la clase objetivo positivo o negativo, respectivamente:\n",
    "\n",
    " * $\\Delta w_j = \\eta (1_{(i)} - 1_{(i)})\\ x_{(ij)} = \\eta(2)x_{(i)j} $\n",
    " * $\\Delta w_j = \\eta (-1_{(i)} - 1_{(i)})\\ x_{(ij)} = \\eta(-2)x_{(i)j}$"
   ]
  },
  {
   "cell_type": "markdown",
   "metadata": {
    "collapsed": true
   },
   "source": [
    "Es importante señalar que la convergencia del perceptron sólo está garantizada si las dos clases son linealmente separables. Si las dos clases no pueden ser separadas por un límite de decisión lineal, podemos establecer un número máximo de pasadas sobre el conjunto de datos de entrenamiento `epochs` y/o un umbral para el número de errores de clasificación tolerados."
   ]
  },
  {
   "cell_type": "markdown",
   "metadata": {},
   "source": [
    "## Implementación simple del Perceptron con scikit-learn\n",
    "\n",
    "### Lecturas previas:\n",
    "\n",
    "* [sklearn.linear_model.Perceptron](http://scikitlearn.org/stable/modules/generated/sklearn.linear_model.Perceptron.html)."
   ]
  },
  {
   "cell_type": "code",
   "execution_count": 1,
   "metadata": {
    "collapsed": true
   },
   "outputs": [],
   "source": [
    "import numpy as np\n",
    "import matplotlib.pyplot as plt\n",
    "from matplotlib.colors import ListedColormap\n",
    "%matplotlib inline\n",
    "\n",
    "# Importamos sklearn.linear_model.perceptron\n",
    "\n",
    "from sklearn.linear_model import perceptron"
   ]
  },
  {
   "cell_type": "code",
   "execution_count": 2,
   "metadata": {},
   "outputs": [
    {
     "data": {
      "text/plain": [
       "<matplotlib.text.Text at 0x7f3cbdb1ba90>"
      ]
     },
     "execution_count": 2,
     "metadata": {},
     "output_type": "execute_result"
    },
    {
     "data": {
      "image/png": "[encoded data removed]",
      "text/plain": [
       "<matplotlib.figure.Figure at 0x7f3cc107bb00>"
      ]
     },
     "metadata": {},
     "output_type": "display_data"
    }
   ],
   "source": [
    "# Utilicemos la funcion  s make_classification de sklearn para crear datos de prueba.\n",
    "\n",
    "from sklearn.datasets import make_classification\n",
    "X, y = make_classification(50, 2, 2, 0, weights=[.5, .5], random_state=2017) \n",
    "\n",
    "# Dibujamos la data\n",
    "colormap = np.array(['r', 'k'])\n",
    "plt.scatter(X[:,0], X[:,1], c=colormap[y], s=40)\n",
    "plt.xlabel('X1')\n",
    "plt.ylabel('X2')"
   ]
  },
  {
   "cell_type": "code",
   "execution_count": 3,
   "metadata": {},
   "outputs": [
    {
     "name": "stdout",
     "output_type": "stream",
     "text": [
      "Prediccion: [0 0 0 1 0 1 1 0 0 1 1 0 0 1 0 1 1 0 1 0 1 1 0 1 1 1 0 1 0 1 0 0 1 1 0 1 1\n",
      " 0 1 1 1 0 1 0 0 0 0 0 1 0]\n",
      "Actual:     [0 0 0 1 0 1 1 0 0 1 1 0 0 1 0 1 1 0 1 0 1 1 0 1 1 1 0 1 0 1 0 0 1 1 0 1 1\n",
      " 0 1 1 1 0 1 0 0 0 0 0 1 0]\n",
      "Precision:   100.0%\n",
      " Coeficiente X1: 0.0089665308772\n",
      " Coefficiente X2: -0.0022887812847\n",
      "Intercepto:      [ 0.002]\n"
     ]
    }
   ],
   "source": [
    "# Creamos el modelo \n",
    "clf = perceptron.Perceptron(n_iter=100, verbose=0, random_state=2017, fit_intercept=True, eta0=0.002)\n",
    "clf.fit(X,y)\n",
    "\n",
    "# Imprimimos los resultos \n",
    "print ( \"Prediccion: \"  + str(clf.predict(X)))\n",
    "print (\"Actual:     \" + str(y))\n",
    "print (\"Precision:   \"  + str(clf.score(X, y)*100) + \"%\")\n",
    "\n",
    "# Valores de salida\n",
    "print (\" Coeficiente X1: \" + str(clf.coef_[0,0]))\n",
    "print (\" Coefficiente X2: \" + str(clf.coef_[0,1]))\n",
    "print (\"Intercepto:      \" + str(clf.intercept_))"
   ]
  },
  {
   "cell_type": "markdown",
   "metadata": {},
   "source": [
    "### Dibujamos los límites de decisión"
   ]
  },
  {
   "cell_type": "code",
   "execution_count": 4,
   "metadata": {},
   "outputs": [
    {
     "data": {
      "image/png": "[encoded data removed]",
      "text/plain": [
       "<matplotlib.figure.Figure at 0x7f3cc1974cf8>"
      ]
     },
     "metadata": {},
     "output_type": "display_data"
    }
   ],
   "source": [
    "def dibujo_region_decision(X, y, clasificador):\n",
    "    \n",
    "    h = .02 \n",
    "    marcadores = ('s', 'x', 'o', '^', 'v')\n",
    "    colores = ('red', 'blue', 'lightgreen', 'gray', 'cyan')\n",
    "    cmap = ListedColormap(colores[:len(np.unique(y))])\n",
    "\n",
    "    # Dibujamos las superficie de decision \n",
    "    \n",
    "    x1_min, x1_max = X[:, 0].min() - 1, X[:, 0].max() + 1\n",
    "    x2_min, x2_max = X[:, 1].min() - 1, X[:, 1].max() + 1\n",
    "    xx1, xx2 = np.meshgrid(np.arange(x1_min, x1_max, h),\n",
    "                           np.arange(x2_min, x2_max, h))\n",
    "    Z = clasificador.predict(np.array([xx1.ravel(), xx2.ravel()]).T)\n",
    "    Z = Z.reshape(xx1.shape)\n",
    "    plt.contourf(xx1, xx2, Z, alpha=0.4, cmap=cmap)\n",
    "    plt.xlim(xx1.min(), xx1.max())\n",
    "    plt.ylim(xx2.min(), xx2.max())\n",
    "\n",
    "    for idx, cl in enumerate(np.unique(y)):\n",
    "        plt.scatter(x=X[y == cl, 0], y=X[y == cl, 1],\n",
    "                    alpha=0.8, c=cmap(idx),\n",
    "                    marker=marcadores[idx], label=cl)\n",
    "        \n",
    "# Dibujamos las fronteras de decision\n",
    "\n",
    "dibujo_region_decision(X, y, clasificador=clf)\n",
    "plt.title('Límite de decisión del modelo Perceptron')\n",
    "plt.xlabel('X1')\n",
    "plt.ylabel('X2')\n",
    "plt.legend(loc='upper left')\n",
    "plt.show()"
   ]
  },
  {
   "cell_type": "markdown",
   "metadata": {},
   "source": [
    "## Implementación simple del Perceptron con Numpy\n",
    "\n",
    "### Pasos generales\n",
    "\n",
    "* Cargamos un conjunto de datos desde un archivo de texto separado por tabuladores.\n",
    "\n",
    "* El conjunto de datos contiene tres columnas: `caracteristica 1`, `caracteristica 2` y etiquetas de clase.\n",
    "\n",
    "* El conjunto de datos contiene `100` entradas ordenadas por etiquetas de clase, 50 ejemplos de cada clase."
   ]
  },
  {
   "cell_type": "code",
   "execution_count": 5,
   "metadata": {},
   "outputs": [
    {
     "name": "stdout",
     "output_type": "stream",
     "text": [
      "Recuento de etiquetas de clase: [50 50]\n"
     ]
    },
    {
     "data": {
      "image/png": "[encoded data removed]",
      "text/plain": [
       "<matplotlib.figure.Figure at 0x7f3cbdafdf28>"
      ]
     },
     "metadata": {},
     "output_type": "display_data"
    }
   ],
   "source": [
    "datos = np.genfromtxt('perceptron_toydata.txt', delimiter='\\t')\n",
    "X, y = datos[:, :2], datos[:, 2]\n",
    "y = y.astype(np.int)\n",
    "\n",
    "print('Recuento de etiquetas de clase:', np.bincount(y))\n",
    "\n",
    "plt.scatter(X[y==0, 0], X[y==0, 1], label='clase 0', marker='o')\n",
    "plt.scatter(X[y==1, 0], X[y==1, 1], label='clase 1', marker='s')\n",
    "plt.xlabel('Caracteristica 1')\n",
    "plt.ylabel('Caracteristica 2')\n",
    "plt.legend()\n",
    "plt.show()"
   ]
  },
  {
   "cell_type": "markdown",
   "metadata": {},
   "source": [
    "* Reordenamos el conjunto de datos\n",
    "  \n",
    "* Dividimos el conjunto de datos en `70%` de entrenamiento  y `30%` de datos de prueba.\n",
    " \n",
    "* Generamos  de números aleatorios  para reproducibilidad"
   ]
  },
  {
   "cell_type": "code",
   "execution_count": 6,
   "metadata": {
    "collapsed": true
   },
   "outputs": [],
   "source": [
    "reordenar_idx = np.arange(y.shape[0])\n",
    "reordenar_rng = np.random.RandomState(123)\n",
    "reordenar_rng.shuffle(reordenar_idx)\n",
    "X, y = X[reordenar_idx], y[reordenar_idx]\n",
    "\n",
    "X_entrenamiento, X_prueba = X[reordenar_idx[:70]], X[reordenar_idx[70:]]\n",
    "y_entrenamiento, y_prueba = y[reordenar_idx[:70]], y[reordenar_idx[70:]]"
   ]
  },
  {
   "cell_type": "markdown",
   "metadata": {},
   "source": [
    "* Estandarizamos los conjuntos de datos de entrenamiento y prueba (media cero, varianza unitaria)"
   ]
  },
  {
   "cell_type": "code",
   "execution_count": 7,
   "metadata": {
    "collapsed": true
   },
   "outputs": [],
   "source": [
    "mu, sigma = X_entrenamiento.mean(axis=0), X_entrenamiento.std(axis=0)\n",
    "X_entrenamiento = (X_entrenamiento - mu) / sigma\n",
    "X_prueba = (X_prueba - mu) / sigma"
   ]
  },
  {
   "cell_type": "markdown",
   "metadata": {},
   "source": [
    "* Comprobamos los conjunto de datos (aquí: conjunto de datos de entrenamiento) después de los pasos de preproceso"
   ]
  },
  {
   "cell_type": "code",
   "execution_count": 8,
   "metadata": {},
   "outputs": [
    {
     "data": {
      "image/png": "[encoded data removed]",
      "text/plain": [
       "<matplotlib.figure.Figure at 0x7f3cbdb12cc0>"
      ]
     },
     "metadata": {},
     "output_type": "display_data"
    }
   ],
   "source": [
    "plt.scatter(X_entrenamiento[y_entrenamiento==0, 0], X_entrenamiento[y_entrenamiento==0, 1], \n",
    "            label='clase 0', marker='o')\n",
    "plt.scatter(X_entrenamiento[y_entrenamiento==1, 0], X_entrenamiento[y_entrenamiento==1, 1], \n",
    "            label='clase 1', marker='s')\n",
    "plt.xlabel('Caracteristica 1')\n",
    "plt.ylabel('Caracteristica 2')\n",
    "plt.legend()\n",
    "plt.show()"
   ]
  },
  {
   "cell_type": "markdown",
   "metadata": {},
   "source": [
    "* Implementamos la función para el  entrenamiento del  perceptron en NumPy.\n",
    "\n",
    "\n",
    "* Parámetros de entrada\n",
    "\n",
    "    - caracteristica: Una matriz 2D de Numpy conteniendo los datos de entrenamiento\n",
    "    - objetivos: Una matriz 1D de Numpy conteniendo las etiquetas de clase\n",
    "    - mparams: Es un diccionario que contiene los parámetros del modelo, por ejemplo, como los devueltos por esta función. Si `None ` es el paramétro por defecto, se inicializa un nuevo diccionario de parámetros del modelo. Ten  en cuenta que los valores en mparams se actualizan en su lugar si se proporciona un `dict` de mparams.\n",
    "    - pesos_ceros: Inicializa las pesos a todos  ceros, de lo contrario los pesos del modelo se inicializan en un número aleatorio  de una distribución normal con media cero y desviación estándar 0.1.\n",
    "    - tasa_aprendizaje: Una tasa de aprendizaje para las actualizaciones de los parámetros. Ten en cuenta que una tasa de aprendizaje no tiene ningún efecto en la dirección del límite de decisión si  los pesos del modelo se inicializan  todos en cero.\n",
    "    - seed: Semilla para los números pseudoaleatorios que inicializan los pesos. \n",
    "    \n",
    "* Salida \n",
    "\n",
    "    - `mparams`:  Los parámetros del modelo después de entrenar el perceptron para un epoch. El diccionario mparams tiene el siguiente formato:\n",
    "    \n",
    "```\n",
    "{'pesos': np.array ([peso_1, peso_2, ..., peso_m]),\n",
    "    'sesgo': np.array ([sesgo])}\n",
    "         \n",
    " ```"
   ]
  },
  {
   "cell_type": "code",
   "execution_count": 9,
   "metadata": {
    "collapsed": true
   },
   "outputs": [],
   "source": [
    "def entrenamiento_perceptron(caracteristicas, objetivos, mparams=None, pesos_cero=True,\n",
    "                             tasa_aprendizaje=1., seed=None):\n",
    "    \n",
    "    # Inicializamos los parametros del modelo\n",
    "    \n",
    "    if mparams is None:\n",
    "        mparams = {'sesgo': np.zeros(1)}\n",
    "        if pesos_cero:\n",
    "            mparams['pesos'] = np.zeros(caracteristicas.shape[1])\n",
    "        else:\n",
    "            rng = np.random.RandomState(seed)\n",
    "            mparams['pesos'] = rng.normal(loc=0.0, scale=0.1,\n",
    "                                           size=(caracteristicas.shape[1]))\n",
    "\n",
    "    # Entrenando un epoch\n",
    "    \n",
    "    for ejemplo_entrenamiento, etiqueta_verdadera in zip(caracteristicas, objetivos):\n",
    "        lineal = np.dot(ejemplo_entrenamiento, mparams['pesos']) + mparams['sesgo']\n",
    "\n",
    "    # Si se predijo la clase 1 pero la etiqueta verdadera es 0\n",
    "        \n",
    "        if lineal > 0. and not etiqueta_verdadera:\n",
    "            mparams['pesos'] -= tasa_aprendizaje * ejemplo_entrenamiento\n",
    "            mparams['sesgo'] -= tasa_aprendizaje * 1.\n",
    "\n",
    "    # Si se predijo la clase 0 pero la etiqueta verdadera es 1\n",
    "    \n",
    "        elif lineal <= 0. and etiqueta_verdadera:\n",
    "            mparams['pesos'] += tasa_aprendizaje* ejemplo_entrenamiento\n",
    "            mparams['sesgo'] += tasa_aprendizaje * 1.\n",
    "\n",
    "    return mparams"
   ]
  },
  {
   "cell_type": "markdown",
   "metadata": {},
   "source": [
    "* Entrenamiento del perceptron por 2 epoch"
   ]
  },
  {
   "cell_type": "code",
   "execution_count": 10,
   "metadata": {
    "collapsed": true
   },
   "outputs": [],
   "source": [
    "params_modelo = entrenamiento_perceptron(X_entrenamiento, y_entrenamiento, \n",
    "                                mparams=None, pesos_cero=True)\n",
    "\n",
    "for _ in range(2):\n",
    "    _ = entrenamiento_perceptron(X_entrenamiento, y_entrenamiento, mparams=params_modelo)"
   ]
  },
  {
   "cell_type": "markdown",
   "metadata": {},
   "source": [
    "* Implementamos una función para las predicciones del perceptron\n",
    "\n",
    "* Paramétros de entrada:\n",
    "    \n",
    "    - caracteristica: Una matriz 2D de Numpy conteniendo los datos de entrenamiento\n",
    "    - `mparams`:  Los parámetros del modelo del perceptron en el  formato:\n",
    "    \n",
    "```\n",
    "{'pesos': np.array ([peso_1, peso_2, ..., peso_m]),\n",
    "    'sesgo': np.array ([sesgo])}\n",
    "         \n",
    "```\n",
    "\n",
    "* Salida:\n",
    "\n",
    "    - etiquetas_predichas: Matriz de NumPy  que contiene las etiquetas de clase predichas."
   ]
  },
  {
   "cell_type": "code",
   "execution_count": 11,
   "metadata": {
    "collapsed": true
   },
   "outputs": [],
   "source": [
    "def prediccion_perceptron(caracteristicas, mparams):\n",
    "    \n",
    "    lineal = np.dot(caracteristicas, mparams['pesos']) + mparams['sesgo']\n",
    "    etiquetas_predichas = np.where(lineal.reshape(-1) > 0., 1, 0)\n",
    "    return etiquetas_predichas"
   ]
  },
  {
   "cell_type": "markdown",
   "metadata": {},
   "source": [
    "* Calculamos el error de entrenamiento y de prueba"
   ]
  },
  {
   "cell_type": "code",
   "execution_count": 12,
   "metadata": {},
   "outputs": [
    {
     "name": "stdout",
     "output_type": "stream",
     "text": [
      "Numero de errores de entrenamiento 0\n",
      "Numero de errores de prueba 2\n"
     ]
    }
   ],
   "source": [
    "errores_entrenamiento = np.sum(prediccion_perceptron(X_entrenamiento, params_modelo) != y_entrenamiento)\n",
    "errores_prueba = np.sum(prediccion_perceptron(X_prueba, params_modelo) != y_prueba)\n",
    "                     \n",
    "print('Numero de errores de entrenamiento', errores_entrenamiento)\n",
    "print('Numero de errores de prueba', errores_prueba)"
   ]
  },
  {
   "cell_type": "markdown",
   "metadata": {},
   "source": [
    "* Visualizando los límites de decisión\n",
    "\n",
    "  - El perceptron es una función lineal con umbral\n",
    "  \n",
    "      $$w_1x_1 + w_2x_2 + b \\geq 0$$\n",
    "      \n",
    "  - Podemos reordenar esta ecuación de la siguiente manera:\n",
    "  \n",
    "   $$-\\frac{w_1x_1}{w_2} - \\frac{b}{w_2} \\leq x_2$$"
   ]
  },
  {
   "cell_type": "code",
   "execution_count": 13,
   "metadata": {},
   "outputs": [
    {
     "data": {
      "image/png": "[encoded data removed]",
      "text/plain": [
       "<matplotlib.figure.Figure at 0x7f3cbd416f28>"
      ]
     },
     "metadata": {},
     "output_type": "display_data"
    }
   ],
   "source": [
    "x_min = -2\n",
    "y_min = ( -(params_modelo['pesos'][0] * x_min) / params_modelo['pesos'][1]\n",
    "          -(params_modelo['sesgo'] / params_modelo['pesos'][1]) )\n",
    "\n",
    "x_max = 2\n",
    "y_max = ( -(params_modelo['pesos'][0] * x_max) / params_modelo['pesos'][1]\n",
    "          -(params_modelo['sesgo'] / params_modelo['pesos'][1]) )\n",
    "\n",
    "\n",
    "fig, ax = plt.subplots(1, 2, sharex=True, figsize=(7, 3))\n",
    "\n",
    "ax[0].plot([x_min, x_max], [y_min, y_max])\n",
    "ax[1].plot([x_min, x_max], [y_min, y_max])\n",
    "\n",
    "ax[0].scatter(X_entrenamiento[y_entrenamiento==0, 0], X_entrenamiento[y_entrenamiento==0, 1], \n",
    "              label='clase 0', marker='o')\n",
    "ax[0].scatter(X_entrenamiento[y_entrenamiento==1, 0], X_entrenamiento[y_entrenamiento==1, 1], \n",
    "              label='clase 1', marker='s')\n",
    "\n",
    "ax[1].scatter(X_prueba[y_prueba==0, 0], X_prueba[y_prueba==0, 1], label='clase 0', marker='o')\n",
    "ax[1].scatter(X_prueba[y_prueba==1, 0], X_prueba[y_prueba==1, 1], label='clase 1', marker='s')\n",
    "\n",
    "ax[1].legend(loc='upper left')\n",
    "plt.show()\n"
   ]
  },
  {
   "cell_type": "markdown",
   "metadata": {},
   "source": [
    "### Problemas con los perceptrones\n",
    "\n",
    "Aunque el perceptron clasificó perfectamente las dos clases que se entregó, la convergencia es uno de los mayores problemas del perceptron. Frank Rosenblatt probó matemáticamente que la regla de aprendizaje del perceptron converge si las dos clases pueden ser separadas por el hiperplano lineal, pero surgen problemas si las clases no pueden ser separadas perfectamente por una clasificación lineal.\n",
    "\n",
    "Para demostrar este problema, utilizaremos dos clases y características diferentes del conjunto de datos Iris."
   ]
  },
  {
   "cell_type": "code",
   "execution_count": 14,
   "metadata": {
    "collapsed": true
   },
   "outputs": [],
   "source": [
    "## Ejemplo de Sebastian Raschka \n",
    "\n",
    "import pandas as pd\n",
    "df = pd.read_csv('https://archive.ics.uci.edu/ml/machine-learning-databases/iris/iris.data', header=None)\n",
    "\n",
    "# versicolor and virginica\n",
    "y = df.iloc[50:150, 4].values  \n",
    "\n",
    "# Convertimos las etiquetas de clase a enteras  -1 (Versicolor) y 1 (virginica)\n",
    "y = np.where(y == 'Iris-virginica', -1, 1)\n",
    "\n",
    "\n",
    "# Ancho sepal y ancho petal\n",
    "X = df.iloc[50:1500, [1, 3]].values\n"
   ]
  },
  {
   "cell_type": "code",
   "execution_count": 15,
   "metadata": {
    "collapsed": true
   },
   "outputs": [],
   "source": [
    "from perceptron import Perceptron\n",
    "from mlxtend.plotting import plot_decision_regions"
   ]
  },
  {
   "cell_type": "code",
   "execution_count": 18,
   "metadata": {},
   "outputs": [
    {
     "data": {
      "image/png": "[encoded data removed]",
      "text/plain": [
       "<matplotlib.figure.Figure at 0x7f3cb1c09f98>"
      ]
     },
     "metadata": {},
     "output_type": "display_data"
    },
    {
     "data": {
      "image/png": "[encoded data removed]",
      "text/plain": [
       "<matplotlib.figure.Figure at 0x7f3cb1baf3c8>"
      ]
     },
     "metadata": {},
     "output_type": "display_data"
    }
   ],
   "source": [
    "ppn = Perceptron(epochs=25, eta=0.01)\n",
    "ppn.entrenamiento(X, y)\n",
    "\n",
    "plot_decision_regions(X, y, clf=ppn)\n",
    "plt.show()\n",
    "\n",
    "plt.plot(range(1, len(ppn.errores_)+1), ppn.errores_, marker='o')\n",
    "plt.xlabel('Iteraciones')\n",
    "plt.ylabel('Clasificaciones')\n",
    "plt.show()"
   ]
  },
  {
   "cell_type": "code",
   "execution_count": 19,
   "metadata": {},
   "outputs": [
    {
     "name": "stdout",
     "output_type": "stream",
     "text": [
      "Total de clasificaciones : 43 de 100\n"
     ]
    }
   ],
   "source": [
    "print('Total de clasificaciones : %d de 100' % (y != ppn.predict(X)).sum())\n"
   ]
  },
  {
   "cell_type": "markdown",
   "metadata": {},
   "source": [
    "Incluso a una menor tasa de entrenamiento, el perceptron no pudo encontrar un buen límite de decisión ya que una o más muestras siempre serán mal clasificadas en cada `epoch`, de modo que la regla de aprendizaje nunca deje de actualizar los pesos.\n",
    "\n",
    "Otra deficiencia del algoritmo perceptron es que deja de actualizar los pesos tan pronto como todas las muestras se clasifican correctamente. Esto nos  dice que un límite de decisión con un gran margen entre las clases  probablemente tiene un mejor error de generalización que el límite de decisión del perceptron, pero esto es otro tema."
   ]
  },
  {
   "cell_type": "code",
   "execution_count": null,
   "metadata": {
    "collapsed": true
   },
   "outputs": [],
   "source": []
  }
 ],
 "metadata": {
  "kernelspec": {
   "display_name": "Python 3",
   "language": "python",
   "name": "python3"
  },
  "language_info": {
   "codemirror_mode": {
    "name": "ipython",
    "version": 3
   },
   "file_extension": ".py",
   "mimetype": "text/x-python",
   "name": "python",
   "nbconvert_exporter": "python",
   "pygments_lexer": "ipython3",
   "version": "3.6.1"
  }
 },
 "nbformat": 4,
 "nbformat_minor": 2
}
